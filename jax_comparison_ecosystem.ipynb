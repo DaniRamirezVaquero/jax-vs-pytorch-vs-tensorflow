{
  "cells": [
    {
      "cell_type": "markdown",
      "id": "dac9941e",
      "metadata": {
        "id": "dac9941e"
      },
      "source": [
        "### Introducción a JAX\n",
        "\n",
        "JAX es una biblioteca de Python desarrollada por Google para realizar cálculos numéricos avanzados. Combina la simplicidad de NumPy con el rendimiento de un compilador JIT y capacidades automáticas de diferenciación."
      ]
    },
    {
      "cell_type": "code",
      "execution_count": 26,
      "id": "498f2f62",
      "metadata": {
        "id": "498f2f62"
      },
      "outputs": [],
      "source": [
        "import jax\n",
        "import jax.numpy as jnp"
      ]
    },
    {
      "cell_type": "markdown",
      "id": "4ac1b157",
      "metadata": {
        "id": "4ac1b157"
      },
      "source": [
        "### Comparación con TensorFlow y PyTorch\n",
        "\n",
        "1. **Rendimiento**: JAX utiliza XLA para optimizar operaciones, mejorando la eficiencia en GPUs y TPUs.\n",
        "2. **Flexibilidad**: JAX permite diferenciación automática en cualquier función Python pura.\n",
        "3. **Facilidad de uso**: Aunque similar a NumPy, su enfoque funcional requiere un aprendizaje inicial más profundo."
      ]
    },
    {
      "cell_type": "markdown",
      "id": "43389986",
      "metadata": {
        "id": "43389986"
      },
      "source": [
        "### Ecosistema\n",
        "\n",
        "- **Flax**: Framework de aprendizaje profundo en JAX.\n",
        "- **Optax**: Herramienta para la optimización.\n",
        "- **Stax**: Biblioteca de especificación de redes neuronales"
      ]
    },
    {
      "cell_type": "markdown",
      "id": "ItZzuvEgaRbB",
      "metadata": {
        "id": "ItZzuvEgaRbB"
      },
      "source": [
        "## Ejemplos de entrenamiento\n",
        "Vamos a entrenar el \"mismo\" modelo con cada framework para comparar los resultados y el rendimiento.\n",
        "\n",
        "Elegiremos el conjunto de datos `wine` de `sckit-learn` para hacer este estudio.\n"
      ]
    },
    {
      "cell_type": "markdown",
      "id": "cV7cPp2GwEak",
      "metadata": {
        "id": "cV7cPp2GwEak"
      },
      "source": [
        "### Preparación de los datos"
      ]
    },
    {
      "cell_type": "code",
      "execution_count": 27,
      "id": "HLUYZLPwaeoh",
      "metadata": {
        "id": "HLUYZLPwaeoh"
      },
      "outputs": [],
      "source": [
        "import time\n",
        "import numpy as np\n",
        "import pandas as pd\n",
        "import matplotlib.pyplot as plt\n",
        "\n",
        "# Función scikit-learn para cargar el conjunto de datos de vino.\n",
        "from sklearn.datasets import load_wine\n",
        "\n",
        "# Función para dividir los datos de entrenamiento y prueba\n",
        "from sklearn.model_selection import train_test_split\n",
        "\n",
        "# Clase para normalizar los datos (media 0, desviación estándar 1)\n",
        "from sklearn.preprocessing import StandardScaler\n",
        "\n",
        "# Función para calcular la precisión\n",
        "from sklearn.metrics import accuracy_score"
      ]
    },
    {
      "cell_type": "code",
      "execution_count": 28,
      "id": "iX4Z1iLVbjVX",
      "metadata": {
        "id": "iX4Z1iLVbjVX"
      },
      "outputs": [],
      "source": [
        "# Carga de datos\n",
        "dataset = load_wine()"
      ]
    },
    {
      "cell_type": "code",
      "execution_count": 29,
      "id": "eWiSryvgbNjb",
      "metadata": {
        "id": "eWiSryvgbNjb"
      },
      "outputs": [],
      "source": [
        "# Matriz de características\n",
        "X = dataset.data\n",
        "# Datos de cada muestra de vino\n",
        "feature_names = dataset.feature_names\n",
        "\n",
        "X_df = pd.DataFrame(dataset.data, columns=feature_names)\n",
        "\n",
        "# Extraemos el target\n",
        "y = dataset.target"
      ]
    },
    {
      "cell_type": "code",
      "execution_count": 30,
      "id": "2sXFM6QYb7f1",
      "metadata": {
        "id": "2sXFM6QYb7f1"
      },
      "outputs": [],
      "source": [
        "# Divide los datos en entrenamiento y prueba\n",
        "\n",
        "X_train, X_test, y_train, y_test = train_test_split(X, y, test_size=0.2, random_state=42, stratify=y, shuffle=True)"
      ]
    },
    {
      "cell_type": "code",
      "execution_count": 31,
      "id": "ej8an_1Gb_a0",
      "metadata": {
        "id": "ej8an_1Gb_a0"
      },
      "outputs": [],
      "source": [
        "# Normalizamos X\n",
        "scaler = StandardScaler()\n",
        "X_train = scaler.fit_transform(X_train)\n",
        "X_test = scaler.transform(X_test)"
      ]
    },
    {
      "cell_type": "code",
      "execution_count": 32,
      "id": "jgwC3neAr6av",
      "metadata": {
        "id": "jgwC3neAr6av"
      },
      "outputs": [],
      "source": [
        "# Establecemos las etapas\n",
        "epochs = 100"
      ]
    },
    {
      "cell_type": "markdown",
      "id": "Xb3BQo5omkmX",
      "metadata": {
        "id": "Xb3BQo5omkmX"
      },
      "source": [
        "### TensorFlow"
      ]
    },
    {
      "cell_type": "code",
      "execution_count": 33,
      "id": "rj9Rba-bmp8U",
      "metadata": {
        "id": "rj9Rba-bmp8U"
      },
      "outputs": [],
      "source": [
        "# Importación de librerías\n",
        "import tensorflow as tf\n",
        "from tensorflow import keras"
      ]
    },
    {
      "cell_type": "code",
      "execution_count": 34,
      "id": "LU0nnQNxm35H",
      "metadata": {
        "id": "LU0nnQNxm35H"
      },
      "outputs": [],
      "source": [
        "# Contrucción del modelo\n",
        "model_tf = keras.Sequential([\n",
        "    keras.Input(shape=X_train.shape[1:]),\n",
        "    keras.layers.Dense(128, activation='relu'),\n",
        "    keras.layers.Dense(64, activation='relu'),\n",
        "    keras.layers.Dense(3, activation='softmax')\n",
        "])"
      ]
    },
    {
      "cell_type": "code",
      "execution_count": 35,
      "id": "vmqgirfinTPr",
      "metadata": {
        "id": "vmqgirfinTPr"
      },
      "outputs": [],
      "source": [
        "# Compilado del modelo (indicamos la función de perdida y el optimizador)\n",
        "model_tf.compile(optimizer='adam', loss='sparse_categorical_crossentropy', metrics=['accuracy'])"
      ]
    },
    {
      "cell_type": "code",
      "execution_count": 61,
      "id": "rez6DXoUnZrP",
      "metadata": {
        "colab": {
          "base_uri": "https://localhost:8080/"
        },
        "collapsed": true,
        "id": "rez6DXoUnZrP",
        "outputId": "238e4406-0f2d-4799-b78f-bc05ab23a7b1"
      },
      "outputs": [
        {
          "name": "stdout",
          "output_type": "stream",
          "text": [
            "Epoch 1/100\n",
            "\u001b[1m5/5\u001b[0m \u001b[32m━━━━━━━━━━━━━━━━━━━━\u001b[0m\u001b[37m\u001b[0m \u001b[1m0s\u001b[0m 4ms/step - accuracy: 1.0000 - loss: 6.3362e-04 \n",
            "Epoch 2/100\n",
            "\u001b[1m5/5\u001b[0m \u001b[32m━━━━━━━━━━━━━━━━━━━━\u001b[0m\u001b[37m\u001b[0m \u001b[1m0s\u001b[0m 4ms/step - accuracy: 1.0000 - loss: 5.4443e-04 \n",
            "Epoch 3/100\n",
            "\u001b[1m5/5\u001b[0m \u001b[32m━━━━━━━━━━━━━━━━━━━━\u001b[0m\u001b[37m\u001b[0m \u001b[1m0s\u001b[0m 4ms/step - accuracy: 1.0000 - loss: 5.2860e-04 \n",
            "Epoch 4/100\n",
            "\u001b[1m5/5\u001b[0m \u001b[32m━━━━━━━━━━━━━━━━━━━━\u001b[0m\u001b[37m\u001b[0m \u001b[1m0s\u001b[0m 5ms/step - accuracy: 1.0000 - loss: 5.2164e-04 \n",
            "Epoch 5/100\n",
            "\u001b[1m5/5\u001b[0m \u001b[32m━━━━━━━━━━━━━━━━━━━━\u001b[0m\u001b[37m\u001b[0m \u001b[1m0s\u001b[0m 5ms/step - accuracy: 1.0000 - loss: 6.2226e-04 \n",
            "Epoch 6/100\n",
            "\u001b[1m5/5\u001b[0m \u001b[32m━━━━━━━━━━━━━━━━━━━━\u001b[0m\u001b[37m\u001b[0m \u001b[1m0s\u001b[0m 4ms/step - accuracy: 1.0000 - loss: 5.0002e-04 \n",
            "Epoch 7/100\n",
            "\u001b[1m5/5\u001b[0m \u001b[32m━━━━━━━━━━━━━━━━━━━━\u001b[0m\u001b[37m\u001b[0m \u001b[1m0s\u001b[0m 4ms/step - accuracy: 1.0000 - loss: 4.9163e-04 \n",
            "Epoch 8/100\n",
            "\u001b[1m5/5\u001b[0m \u001b[32m━━━━━━━━━━━━━━━━━━━━\u001b[0m\u001b[37m\u001b[0m \u001b[1m0s\u001b[0m 4ms/step - accuracy: 1.0000 - loss: 5.9593e-04 \n",
            "Epoch 9/100\n",
            "\u001b[1m5/5\u001b[0m \u001b[32m━━━━━━━━━━━━━━━━━━━━\u001b[0m\u001b[37m\u001b[0m \u001b[1m0s\u001b[0m 4ms/step - accuracy: 1.0000 - loss: 5.8117e-04 \n",
            "Epoch 10/100\n",
            "\u001b[1m5/5\u001b[0m \u001b[32m━━━━━━━━━━━━━━━━━━━━\u001b[0m\u001b[37m\u001b[0m \u001b[1m0s\u001b[0m 4ms/step - accuracy: 1.0000 - loss: 5.1373e-04 \n",
            "Epoch 11/100\n",
            "\u001b[1m5/5\u001b[0m \u001b[32m━━━━━━━━━━━━━━━━━━━━\u001b[0m\u001b[37m\u001b[0m \u001b[1m0s\u001b[0m 4ms/step - accuracy: 1.0000 - loss: 3.9288e-04 \n",
            "Epoch 12/100\n",
            "\u001b[1m5/5\u001b[0m \u001b[32m━━━━━━━━━━━━━━━━━━━━\u001b[0m\u001b[37m\u001b[0m \u001b[1m0s\u001b[0m 3ms/step - accuracy: 1.0000 - loss: 4.9693e-04 \n",
            "Epoch 13/100\n",
            "\u001b[1m5/5\u001b[0m \u001b[32m━━━━━━━━━━━━━━━━━━━━\u001b[0m\u001b[37m\u001b[0m \u001b[1m0s\u001b[0m 3ms/step - accuracy: 1.0000 - loss: 5.0347e-04 \n",
            "Epoch 14/100\n",
            "\u001b[1m5/5\u001b[0m \u001b[32m━━━━━━━━━━━━━━━━━━━━\u001b[0m\u001b[37m\u001b[0m \u001b[1m0s\u001b[0m 3ms/step - accuracy: 1.0000 - loss: 4.8111e-04 \n",
            "Epoch 15/100\n",
            "\u001b[1m5/5\u001b[0m \u001b[32m━━━━━━━━━━━━━━━━━━━━\u001b[0m\u001b[37m\u001b[0m \u001b[1m0s\u001b[0m 5ms/step - accuracy: 1.0000 - loss: 5.0719e-04 \n",
            "Epoch 16/100\n",
            "\u001b[1m5/5\u001b[0m \u001b[32m━━━━━━━━━━━━━━━━━━━━\u001b[0m\u001b[37m\u001b[0m \u001b[1m0s\u001b[0m 3ms/step - accuracy: 1.0000 - loss: 4.3235e-04 \n",
            "Epoch 17/100\n",
            "\u001b[1m5/5\u001b[0m \u001b[32m━━━━━━━━━━━━━━━━━━━━\u001b[0m\u001b[37m\u001b[0m \u001b[1m0s\u001b[0m 3ms/step - accuracy: 1.0000 - loss: 4.5452e-04 \n",
            "Epoch 18/100\n",
            "\u001b[1m5/5\u001b[0m \u001b[32m━━━━━━━━━━━━━━━━━━━━\u001b[0m\u001b[37m\u001b[0m \u001b[1m0s\u001b[0m 3ms/step - accuracy: 1.0000 - loss: 4.0768e-04 \n",
            "Epoch 19/100\n",
            "\u001b[1m5/5\u001b[0m \u001b[32m━━━━━━━━━━━━━━━━━━━━\u001b[0m\u001b[37m\u001b[0m \u001b[1m0s\u001b[0m 3ms/step - accuracy: 1.0000 - loss: 4.8726e-04 \n",
            "Epoch 20/100\n",
            "\u001b[1m5/5\u001b[0m \u001b[32m━━━━━━━━━━━━━━━━━━━━\u001b[0m\u001b[37m\u001b[0m \u001b[1m0s\u001b[0m 4ms/step - accuracy: 1.0000 - loss: 4.1058e-04 \n",
            "Epoch 21/100\n",
            "\u001b[1m5/5\u001b[0m \u001b[32m━━━━━━━━━━━━━━━━━━━━\u001b[0m\u001b[37m\u001b[0m \u001b[1m0s\u001b[0m 4ms/step - accuracy: 1.0000 - loss: 4.2695e-04 \n",
            "Epoch 22/100\n",
            "\u001b[1m5/5\u001b[0m \u001b[32m━━━━━━━━━━━━━━━━━━━━\u001b[0m\u001b[37m\u001b[0m \u001b[1m0s\u001b[0m 4ms/step - accuracy: 1.0000 - loss: 3.6977e-04 \n",
            "Epoch 23/100\n",
            "\u001b[1m5/5\u001b[0m \u001b[32m━━━━━━━━━━━━━━━━━━━━\u001b[0m\u001b[37m\u001b[0m \u001b[1m0s\u001b[0m 4ms/step - accuracy: 1.0000 - loss: 3.4732e-04 \n",
            "Epoch 24/100\n",
            "\u001b[1m5/5\u001b[0m \u001b[32m━━━━━━━━━━━━━━━━━━━━\u001b[0m\u001b[37m\u001b[0m \u001b[1m0s\u001b[0m 4ms/step - accuracy: 1.0000 - loss: 4.8522e-04 \n",
            "Epoch 25/100\n",
            "\u001b[1m5/5\u001b[0m \u001b[32m━━━━━━━━━━━━━━━━━━━━\u001b[0m\u001b[37m\u001b[0m \u001b[1m0s\u001b[0m 5ms/step - accuracy: 1.0000 - loss: 3.9846e-04 \n",
            "Epoch 26/100\n",
            "\u001b[1m5/5\u001b[0m \u001b[32m━━━━━━━━━━━━━━━━━━━━\u001b[0m\u001b[37m\u001b[0m \u001b[1m0s\u001b[0m 4ms/step - accuracy: 1.0000 - loss: 4.0585e-04 \n",
            "Epoch 27/100\n",
            "\u001b[1m5/5\u001b[0m \u001b[32m━━━━━━━━━━━━━━━━━━━━\u001b[0m\u001b[37m\u001b[0m \u001b[1m0s\u001b[0m 3ms/step - accuracy: 1.0000 - loss: 3.3432e-04 \n",
            "Epoch 28/100\n",
            "\u001b[1m5/5\u001b[0m \u001b[32m━━━━━━━━━━━━━━━━━━━━\u001b[0m\u001b[37m\u001b[0m \u001b[1m0s\u001b[0m 3ms/step - accuracy: 1.0000 - loss: 3.3479e-04 \n",
            "Epoch 29/100\n",
            "\u001b[1m5/5\u001b[0m \u001b[32m━━━━━━━━━━━━━━━━━━━━\u001b[0m\u001b[37m\u001b[0m \u001b[1m0s\u001b[0m 4ms/step - accuracy: 1.0000 - loss: 3.0896e-04 \n",
            "Epoch 30/100\n",
            "\u001b[1m5/5\u001b[0m \u001b[32m━━━━━━━━━━━━━━━━━━━━\u001b[0m\u001b[37m\u001b[0m \u001b[1m0s\u001b[0m 4ms/step - accuracy: 1.0000 - loss: 3.6883e-04 \n",
            "Epoch 31/100\n",
            "\u001b[1m5/5\u001b[0m \u001b[32m━━━━━━━━━━━━━━━━━━━━\u001b[0m\u001b[37m\u001b[0m \u001b[1m0s\u001b[0m 4ms/step - accuracy: 1.0000 - loss: 3.7032e-04 \n",
            "Epoch 32/100\n",
            "\u001b[1m5/5\u001b[0m \u001b[32m━━━━━━━━━━━━━━━━━━━━\u001b[0m\u001b[37m\u001b[0m \u001b[1m0s\u001b[0m 3ms/step - accuracy: 1.0000 - loss: 3.3222e-04 \n",
            "Epoch 33/100\n",
            "\u001b[1m5/5\u001b[0m \u001b[32m━━━━━━━━━━━━━━━━━━━━\u001b[0m\u001b[37m\u001b[0m \u001b[1m0s\u001b[0m 4ms/step - accuracy: 1.0000 - loss: 3.0667e-04 \n",
            "Epoch 34/100\n",
            "\u001b[1m5/5\u001b[0m \u001b[32m━━━━━━━━━━━━━━━━━━━━\u001b[0m\u001b[37m\u001b[0m \u001b[1m0s\u001b[0m 5ms/step - accuracy: 1.0000 - loss: 3.7068e-04 \n",
            "Epoch 35/100\n",
            "\u001b[1m5/5\u001b[0m \u001b[32m━━━━━━━━━━━━━━━━━━━━\u001b[0m\u001b[37m\u001b[0m \u001b[1m0s\u001b[0m 4ms/step - accuracy: 1.0000 - loss: 3.2686e-04 \n",
            "Epoch 36/100\n",
            "\u001b[1m5/5\u001b[0m \u001b[32m━━━━━━━━━━━━━━━━━━━━\u001b[0m\u001b[37m\u001b[0m \u001b[1m0s\u001b[0m 4ms/step - accuracy: 1.0000 - loss: 3.1604e-04 \n",
            "Epoch 37/100\n",
            "\u001b[1m5/5\u001b[0m \u001b[32m━━━━━━━━━━━━━━━━━━━━\u001b[0m\u001b[37m\u001b[0m \u001b[1m0s\u001b[0m 5ms/step - accuracy: 1.0000 - loss: 3.2810e-04 \n",
            "Epoch 38/100\n",
            "\u001b[1m5/5\u001b[0m \u001b[32m━━━━━━━━━━━━━━━━━━━━\u001b[0m\u001b[37m\u001b[0m \u001b[1m0s\u001b[0m 4ms/step - accuracy: 1.0000 - loss: 2.8814e-04  \n",
            "Epoch 39/100\n",
            "\u001b[1m5/5\u001b[0m \u001b[32m━━━━━━━━━━━━━━━━━━━━\u001b[0m\u001b[37m\u001b[0m \u001b[1m0s\u001b[0m 5ms/step - accuracy: 1.0000 - loss: 3.1829e-04 \n",
            "Epoch 40/100\n",
            "\u001b[1m5/5\u001b[0m \u001b[32m━━━━━━━━━━━━━━━━━━━━\u001b[0m\u001b[37m\u001b[0m \u001b[1m0s\u001b[0m 3ms/step - accuracy: 1.0000 - loss: 3.7021e-04 \n",
            "Epoch 41/100\n",
            "\u001b[1m5/5\u001b[0m \u001b[32m━━━━━━━━━━━━━━━━━━━━\u001b[0m\u001b[37m\u001b[0m \u001b[1m0s\u001b[0m 4ms/step - accuracy: 1.0000 - loss: 2.8039e-04 \n",
            "Epoch 42/100\n",
            "\u001b[1m5/5\u001b[0m \u001b[32m━━━━━━━━━━━━━━━━━━━━\u001b[0m\u001b[37m\u001b[0m \u001b[1m0s\u001b[0m 4ms/step - accuracy: 1.0000 - loss: 3.1910e-04 \n",
            "Epoch 43/100\n",
            "\u001b[1m5/5\u001b[0m \u001b[32m━━━━━━━━━━━━━━━━━━━━\u001b[0m\u001b[37m\u001b[0m \u001b[1m0s\u001b[0m 4ms/step - accuracy: 1.0000 - loss: 3.1684e-04 \n",
            "Epoch 44/100\n",
            "\u001b[1m5/5\u001b[0m \u001b[32m━━━━━━━━━━━━━━━━━━━━\u001b[0m\u001b[37m\u001b[0m \u001b[1m0s\u001b[0m 4ms/step - accuracy: 1.0000 - loss: 2.8193e-04 \n",
            "Epoch 45/100\n",
            "\u001b[1m5/5\u001b[0m \u001b[32m━━━━━━━━━━━━━━━━━━━━\u001b[0m\u001b[37m\u001b[0m \u001b[1m0s\u001b[0m 3ms/step - accuracy: 1.0000 - loss: 2.4796e-04 \n",
            "Epoch 46/100\n",
            "\u001b[1m5/5\u001b[0m \u001b[32m━━━━━━━━━━━━━━━━━━━━\u001b[0m\u001b[37m\u001b[0m \u001b[1m0s\u001b[0m 3ms/step - accuracy: 1.0000 - loss: 2.8501e-04 \n",
            "Epoch 47/100\n",
            "\u001b[1m5/5\u001b[0m \u001b[32m━━━━━━━━━━━━━━━━━━━━\u001b[0m\u001b[37m\u001b[0m \u001b[1m0s\u001b[0m 3ms/step - accuracy: 1.0000 - loss: 3.2204e-04 \n",
            "Epoch 48/100\n",
            "\u001b[1m5/5\u001b[0m \u001b[32m━━━━━━━━━━━━━━━━━━━━\u001b[0m\u001b[37m\u001b[0m \u001b[1m0s\u001b[0m 3ms/step - accuracy: 1.0000 - loss: 2.4297e-04 \n",
            "Epoch 49/100\n",
            "\u001b[1m5/5\u001b[0m \u001b[32m━━━━━━━━━━━━━━━━━━━━\u001b[0m\u001b[37m\u001b[0m \u001b[1m0s\u001b[0m 3ms/step - accuracy: 1.0000 - loss: 2.9905e-04 \n",
            "Epoch 50/100\n",
            "\u001b[1m5/5\u001b[0m \u001b[32m━━━━━━━━━━━━━━━━━━━━\u001b[0m\u001b[37m\u001b[0m \u001b[1m0s\u001b[0m 3ms/step - accuracy: 1.0000 - loss: 2.7957e-04 \n",
            "Epoch 51/100\n",
            "\u001b[1m5/5\u001b[0m \u001b[32m━━━━━━━━━━━━━━━━━━━━\u001b[0m\u001b[37m\u001b[0m \u001b[1m0s\u001b[0m 3ms/step - accuracy: 1.0000 - loss: 2.6537e-04 \n",
            "Epoch 52/100\n",
            "\u001b[1m5/5\u001b[0m \u001b[32m━━━━━━━━━━━━━━━━━━━━\u001b[0m\u001b[37m\u001b[0m \u001b[1m0s\u001b[0m 3ms/step - accuracy: 1.0000 - loss: 2.4136e-04 \n",
            "Epoch 53/100\n",
            "\u001b[1m5/5\u001b[0m \u001b[32m━━━━━━━━━━━━━━━━━━━━\u001b[0m\u001b[37m\u001b[0m \u001b[1m0s\u001b[0m 3ms/step - accuracy: 1.0000 - loss: 2.5305e-04 \n",
            "Epoch 54/100\n",
            "\u001b[1m5/5\u001b[0m \u001b[32m━━━━━━━━━━━━━━━━━━━━\u001b[0m\u001b[37m\u001b[0m \u001b[1m0s\u001b[0m 4ms/step - accuracy: 1.0000 - loss: 2.3222e-04 \n",
            "Epoch 55/100\n",
            "\u001b[1m5/5\u001b[0m \u001b[32m━━━━━━━━━━━━━━━━━━━━\u001b[0m\u001b[37m\u001b[0m \u001b[1m0s\u001b[0m 4ms/step - accuracy: 1.0000 - loss: 2.3636e-04 \n",
            "Epoch 56/100\n",
            "\u001b[1m5/5\u001b[0m \u001b[32m━━━━━━━━━━━━━━━━━━━━\u001b[0m\u001b[37m\u001b[0m \u001b[1m0s\u001b[0m 4ms/step - accuracy: 1.0000 - loss: 2.1937e-04 \n",
            "Epoch 57/100\n",
            "\u001b[1m5/5\u001b[0m \u001b[32m━━━━━━━━━━━━━━━━━━━━\u001b[0m\u001b[37m\u001b[0m \u001b[1m0s\u001b[0m 4ms/step - accuracy: 1.0000 - loss: 2.4418e-04 \n",
            "Epoch 58/100\n",
            "\u001b[1m5/5\u001b[0m \u001b[32m━━━━━━━━━━━━━━━━━━━━\u001b[0m\u001b[37m\u001b[0m \u001b[1m0s\u001b[0m 4ms/step - accuracy: 1.0000 - loss: 2.2147e-04 \n",
            "Epoch 59/100\n",
            "\u001b[1m5/5\u001b[0m \u001b[32m━━━━━━━━━━━━━━━━━━━━\u001b[0m\u001b[37m\u001b[0m \u001b[1m0s\u001b[0m 3ms/step - accuracy: 1.0000 - loss: 2.0911e-04 \n",
            "Epoch 60/100\n",
            "\u001b[1m5/5\u001b[0m \u001b[32m━━━━━━━━━━━━━━━━━━━━\u001b[0m\u001b[37m\u001b[0m \u001b[1m0s\u001b[0m 3ms/step - accuracy: 1.0000 - loss: 2.0873e-04 \n",
            "Epoch 61/100\n",
            "\u001b[1m5/5\u001b[0m \u001b[32m━━━━━━━━━━━━━━━━━━━━\u001b[0m\u001b[37m\u001b[0m \u001b[1m0s\u001b[0m 3ms/step - accuracy: 1.0000 - loss: 2.3034e-04 \n",
            "Epoch 62/100\n",
            "\u001b[1m5/5\u001b[0m \u001b[32m━━━━━━━━━━━━━━━━━━━━\u001b[0m\u001b[37m\u001b[0m \u001b[1m0s\u001b[0m 3ms/step - accuracy: 1.0000 - loss: 2.1793e-04 \n",
            "Epoch 63/100\n",
            "\u001b[1m5/5\u001b[0m \u001b[32m━━━━━━━━━━━━━━━━━━━━\u001b[0m\u001b[37m\u001b[0m \u001b[1m0s\u001b[0m 3ms/step - accuracy: 1.0000 - loss: 2.3476e-04 \n",
            "Epoch 64/100\n",
            "\u001b[1m5/5\u001b[0m \u001b[32m━━━━━━━━━━━━━━━━━━━━\u001b[0m\u001b[37m\u001b[0m \u001b[1m0s\u001b[0m 3ms/step - accuracy: 1.0000 - loss: 1.9307e-04 \n",
            "Epoch 65/100\n",
            "\u001b[1m5/5\u001b[0m \u001b[32m━━━━━━━━━━━━━━━━━━━━\u001b[0m\u001b[37m\u001b[0m \u001b[1m0s\u001b[0m 3ms/step - accuracy: 1.0000 - loss: 1.8364e-04 \n",
            "Epoch 66/100\n",
            "\u001b[1m5/5\u001b[0m \u001b[32m━━━━━━━━━━━━━━━━━━━━\u001b[0m\u001b[37m\u001b[0m \u001b[1m0s\u001b[0m 3ms/step - accuracy: 1.0000 - loss: 1.9795e-04 \n",
            "Epoch 67/100\n",
            "\u001b[1m5/5\u001b[0m \u001b[32m━━━━━━━━━━━━━━━━━━━━\u001b[0m\u001b[37m\u001b[0m \u001b[1m0s\u001b[0m 3ms/step - accuracy: 1.0000 - loss: 1.9989e-04 \n",
            "Epoch 68/100\n",
            "\u001b[1m5/5\u001b[0m \u001b[32m━━━━━━━━━━━━━━━━━━━━\u001b[0m\u001b[37m\u001b[0m \u001b[1m0s\u001b[0m 4ms/step - accuracy: 1.0000 - loss: 1.9774e-04 \n",
            "Epoch 69/100\n",
            "\u001b[1m5/5\u001b[0m \u001b[32m━━━━━━━━━━━━━━━━━━━━\u001b[0m\u001b[37m\u001b[0m \u001b[1m0s\u001b[0m 3ms/step - accuracy: 1.0000 - loss: 2.1353e-04 \n",
            "Epoch 70/100\n",
            "\u001b[1m5/5\u001b[0m \u001b[32m━━━━━━━━━━━━━━━━━━━━\u001b[0m\u001b[37m\u001b[0m \u001b[1m0s\u001b[0m 3ms/step - accuracy: 1.0000 - loss: 1.7903e-04 \n",
            "Epoch 71/100\n",
            "\u001b[1m5/5\u001b[0m \u001b[32m━━━━━━━━━━━━━━━━━━━━\u001b[0m\u001b[37m\u001b[0m \u001b[1m0s\u001b[0m 3ms/step - accuracy: 1.0000 - loss: 2.0987e-04 \n",
            "Epoch 72/100\n",
            "\u001b[1m5/5\u001b[0m \u001b[32m━━━━━━━━━━━━━━━━━━━━\u001b[0m\u001b[37m\u001b[0m \u001b[1m0s\u001b[0m 4ms/step - accuracy: 1.0000 - loss: 1.8595e-04 \n",
            "Epoch 73/100\n",
            "\u001b[1m5/5\u001b[0m \u001b[32m━━━━━━━━━━━━━━━━━━━━\u001b[0m\u001b[37m\u001b[0m \u001b[1m0s\u001b[0m 5ms/step - accuracy: 1.0000 - loss: 1.7687e-04 \n",
            "Epoch 74/100\n",
            "\u001b[1m5/5\u001b[0m \u001b[32m━━━━━━━━━━━━━━━━━━━━\u001b[0m\u001b[37m\u001b[0m \u001b[1m0s\u001b[0m 4ms/step - accuracy: 1.0000 - loss: 2.0435e-04 \n",
            "Epoch 75/100\n",
            "\u001b[1m5/5\u001b[0m \u001b[32m━━━━━━━━━━━━━━━━━━━━\u001b[0m\u001b[37m\u001b[0m \u001b[1m0s\u001b[0m 4ms/step - accuracy: 1.0000 - loss: 2.0058e-04 \n",
            "Epoch 76/100\n",
            "\u001b[1m5/5\u001b[0m \u001b[32m━━━━━━━━━━━━━━━━━━━━\u001b[0m\u001b[37m\u001b[0m \u001b[1m0s\u001b[0m 4ms/step - accuracy: 1.0000 - loss: 1.9238e-04 \n",
            "Epoch 77/100\n",
            "\u001b[1m5/5\u001b[0m \u001b[32m━━━━━━━━━━━━━━━━━━━━\u001b[0m\u001b[37m\u001b[0m \u001b[1m0s\u001b[0m 4ms/step - accuracy: 1.0000 - loss: 2.1474e-04 \n",
            "Epoch 78/100\n",
            "\u001b[1m5/5\u001b[0m \u001b[32m━━━━━━━━━━━━━━━━━━━━\u001b[0m\u001b[37m\u001b[0m \u001b[1m0s\u001b[0m 4ms/step - accuracy: 1.0000 - loss: 2.2484e-04 \n",
            "Epoch 79/100\n",
            "\u001b[1m5/5\u001b[0m \u001b[32m━━━━━━━━━━━━━━━━━━━━\u001b[0m\u001b[37m\u001b[0m \u001b[1m0s\u001b[0m 3ms/step - accuracy: 1.0000 - loss: 1.7742e-04 \n",
            "Epoch 80/100\n",
            "\u001b[1m5/5\u001b[0m \u001b[32m━━━━━━━━━━━━━━━━━━━━\u001b[0m\u001b[37m\u001b[0m \u001b[1m0s\u001b[0m 3ms/step - accuracy: 1.0000 - loss: 2.0228e-04 \n",
            "Epoch 81/100\n",
            "\u001b[1m5/5\u001b[0m \u001b[32m━━━━━━━━━━━━━━━━━━━━\u001b[0m\u001b[37m\u001b[0m \u001b[1m0s\u001b[0m 3ms/step - accuracy: 1.0000 - loss: 1.7195e-04 \n",
            "Epoch 82/100\n",
            "\u001b[1m5/5\u001b[0m \u001b[32m━━━━━━━━━━━━━━━━━━━━\u001b[0m\u001b[37m\u001b[0m \u001b[1m0s\u001b[0m 3ms/step - accuracy: 1.0000 - loss: 1.6444e-04 \n",
            "Epoch 83/100\n",
            "\u001b[1m5/5\u001b[0m \u001b[32m━━━━━━━━━━━━━━━━━━━━\u001b[0m\u001b[37m\u001b[0m \u001b[1m0s\u001b[0m 3ms/step - accuracy: 1.0000 - loss: 1.7740e-04 \n",
            "Epoch 84/100\n",
            "\u001b[1m5/5\u001b[0m \u001b[32m━━━━━━━━━━━━━━━━━━━━\u001b[0m\u001b[37m\u001b[0m \u001b[1m0s\u001b[0m 3ms/step - accuracy: 1.0000 - loss: 1.6003e-04 \n",
            "Epoch 85/100\n",
            "\u001b[1m5/5\u001b[0m \u001b[32m━━━━━━━━━━━━━━━━━━━━\u001b[0m\u001b[37m\u001b[0m \u001b[1m0s\u001b[0m 3ms/step - accuracy: 1.0000 - loss: 1.8061e-04 \n",
            "Epoch 86/100\n",
            "\u001b[1m5/5\u001b[0m \u001b[32m━━━━━━━━━━━━━━━━━━━━\u001b[0m\u001b[37m\u001b[0m \u001b[1m0s\u001b[0m 5ms/step - accuracy: 1.0000 - loss: 1.4384e-04 \n",
            "Epoch 87/100\n",
            "\u001b[1m5/5\u001b[0m \u001b[32m━━━━━━━━━━━━━━━━━━━━\u001b[0m\u001b[37m\u001b[0m \u001b[1m0s\u001b[0m 4ms/step - accuracy: 1.0000 - loss: 1.6658e-04 \n",
            "Epoch 88/100\n",
            "\u001b[1m5/5\u001b[0m \u001b[32m━━━━━━━━━━━━━━━━━━━━\u001b[0m\u001b[37m\u001b[0m \u001b[1m0s\u001b[0m 3ms/step - accuracy: 1.0000 - loss: 1.6896e-04 \n",
            "Epoch 89/100\n",
            "\u001b[1m5/5\u001b[0m \u001b[32m━━━━━━━━━━━━━━━━━━━━\u001b[0m\u001b[37m\u001b[0m \u001b[1m0s\u001b[0m 4ms/step - accuracy: 1.0000 - loss: 1.7798e-04 \n",
            "Epoch 90/100\n",
            "\u001b[1m5/5\u001b[0m \u001b[32m━━━━━━━━━━━━━━━━━━━━\u001b[0m\u001b[37m\u001b[0m \u001b[1m0s\u001b[0m 6ms/step - accuracy: 1.0000 - loss: 1.5574e-04 \n",
            "Epoch 91/100\n",
            "\u001b[1m5/5\u001b[0m \u001b[32m━━━━━━━━━━━━━━━━━━━━\u001b[0m\u001b[37m\u001b[0m \u001b[1m0s\u001b[0m 6ms/step - accuracy: 1.0000 - loss: 1.4096e-04  \n",
            "Epoch 92/100\n",
            "\u001b[1m5/5\u001b[0m \u001b[32m━━━━━━━━━━━━━━━━━━━━\u001b[0m\u001b[37m\u001b[0m \u001b[1m0s\u001b[0m 5ms/step - accuracy: 1.0000 - loss: 1.6150e-04  \n",
            "Epoch 93/100\n",
            "\u001b[1m5/5\u001b[0m \u001b[32m━━━━━━━━━━━━━━━━━━━━\u001b[0m\u001b[37m\u001b[0m \u001b[1m0s\u001b[0m 4ms/step - accuracy: 1.0000 - loss: 1.3118e-04  \n",
            "Epoch 94/100\n",
            "\u001b[1m5/5\u001b[0m \u001b[32m━━━━━━━━━━━━━━━━━━━━\u001b[0m\u001b[37m\u001b[0m \u001b[1m0s\u001b[0m 4ms/step - accuracy: 1.0000 - loss: 1.5627e-04 \n",
            "Epoch 95/100\n",
            "\u001b[1m5/5\u001b[0m \u001b[32m━━━━━━━━━━━━━━━━━━━━\u001b[0m\u001b[37m\u001b[0m \u001b[1m0s\u001b[0m 5ms/step - accuracy: 1.0000 - loss: 1.5920e-04  \n",
            "Epoch 96/100\n",
            "\u001b[1m5/5\u001b[0m \u001b[32m━━━━━━━━━━━━━━━━━━━━\u001b[0m\u001b[37m\u001b[0m \u001b[1m0s\u001b[0m 6ms/step - accuracy: 1.0000 - loss: 1.3720e-04  \n",
            "Epoch 97/100\n",
            "\u001b[1m5/5\u001b[0m \u001b[32m━━━━━━━━━━━━━━━━━━━━\u001b[0m\u001b[37m\u001b[0m \u001b[1m0s\u001b[0m 4ms/step - accuracy: 1.0000 - loss: 1.5303e-04  \n",
            "Epoch 98/100\n",
            "\u001b[1m5/5\u001b[0m \u001b[32m━━━━━━━━━━━━━━━━━━━━\u001b[0m\u001b[37m\u001b[0m \u001b[1m0s\u001b[0m 4ms/step - accuracy: 1.0000 - loss: 1.7428e-04 \n",
            "Epoch 99/100\n",
            "\u001b[1m5/5\u001b[0m \u001b[32m━━━━━━━━━━━━━━━━━━━━\u001b[0m\u001b[37m\u001b[0m \u001b[1m0s\u001b[0m 4ms/step - accuracy: 1.0000 - loss: 1.5809e-04 \n",
            "Epoch 100/100\n",
            "\u001b[1m5/5\u001b[0m \u001b[32m━━━━━━━━━━━━━━━━━━━━\u001b[0m\u001b[37m\u001b[0m \u001b[1m0s\u001b[0m 4ms/step - accuracy: 1.0000 - loss: 1.4612e-04 \n"
          ]
        }
      ],
      "source": [
        "# Entrenamiento del modelo calculado el tiempo\n",
        "start_time = time.time()\n",
        "\n",
        "model_tf.fit(X_train, y_train, epochs=epochs, batch_size=32)\n",
        "\n",
        "end_time = time.time()\n",
        "tensorFlow_time = end_time - start_time"
      ]
    },
    {
      "cell_type": "code",
      "execution_count": 37,
      "id": "EHiBz5qRoSZP",
      "metadata": {
        "colab": {
          "base_uri": "https://localhost:8080/"
        },
        "id": "EHiBz5qRoSZP",
        "outputId": "0def4b0e-804a-4888-c0ac-32249af225d3"
      },
      "outputs": [
        {
          "name": "stdout",
          "output_type": "stream",
          "text": [
            "\u001b[1m2/2\u001b[0m \u001b[32m━━━━━━━━━━━━━━━━━━━━\u001b[0m\u001b[37m\u001b[0m \u001b[1m0s\u001b[0m 44ms/step\n"
          ]
        }
      ],
      "source": [
        "# Evaluación del modelo\n",
        "y_pred_tf = model_tf.predict(X_test)\n",
        "y_pred_tf = np.argmax(y_pred_tf, axis=1)\n",
        "accuracy_tf = accuracy_score(y_test, y_pred_tf)"
      ]
    },
    {
      "cell_type": "markdown",
      "id": "MX_2xVsZntNS",
      "metadata": {
        "id": "MX_2xVsZntNS"
      },
      "source": [
        "### PyTorch"
      ]
    },
    {
      "cell_type": "code",
      "execution_count": 38,
      "id": "cCKKJ3SVnvld",
      "metadata": {
        "id": "cCKKJ3SVnvld"
      },
      "outputs": [],
      "source": [
        "# Importación de librerías\n",
        "import torch\n",
        "import torch.nn as nn\n",
        "import torch.optim as optim"
      ]
    },
    {
      "cell_type": "code",
      "execution_count": 39,
      "id": "F35caO5tn07N",
      "metadata": {
        "id": "F35caO5tn07N"
      },
      "outputs": [],
      "source": [
        "# Contrucción del modelo\n",
        "model_PyTorch = nn.Sequential(\n",
        "    nn.Linear(13, 16),\n",
        "    nn.ReLU(),\n",
        "    nn.Linear(16, 8),\n",
        "    nn.ReLU(),\n",
        "    nn.Linear(8, 3),\n",
        "    nn.Softmax(dim=1)\n",
        ")"
      ]
    },
    {
      "cell_type": "code",
      "execution_count": 40,
      "id": "0x9qV5n2oIml",
      "metadata": {
        "id": "0x9qV5n2oIml"
      },
      "outputs": [],
      "source": [
        "# Función de perdida y optimizador\n",
        "criterion = nn.CrossEntropyLoss()\n",
        "optimizer = optim.Adam(model_PyTorch.parameters(), lr=0.001)"
      ]
    },
    {
      "cell_type": "code",
      "execution_count": 41,
      "id": "iLAQJifForoM",
      "metadata": {
        "id": "iLAQJifForoM"
      },
      "outputs": [],
      "source": [
        "# Preparacion de tensores\n",
        "X_train_tensor = torch.tensor(X_train, dtype=torch.float32)\n",
        "y_train_tensor = torch.tensor(y_train, dtype=torch.long)"
      ]
    },
    {
      "cell_type": "code",
      "execution_count": 42,
      "id": "CnqFZzikoeEd",
      "metadata": {
        "colab": {
          "base_uri": "https://localhost:8080/"
        },
        "collapsed": true,
        "id": "CnqFZzikoeEd",
        "outputId": "4b311777-5517-454d-d91a-57d991900381"
      },
      "outputs": [
        {
          "name": "stdout",
          "output_type": "stream",
          "text": [
            "Epoch: [1/100], Loss: 1.0991\n",
            "Epoch: [2/100], Loss: 1.0981\n",
            "Epoch: [3/100], Loss: 1.0971\n",
            "Epoch: [4/100], Loss: 1.0961\n",
            "Epoch: [5/100], Loss: 1.0951\n",
            "Epoch: [6/100], Loss: 1.0941\n",
            "Epoch: [7/100], Loss: 1.0931\n",
            "Epoch: [8/100], Loss: 1.0920\n",
            "Epoch: [9/100], Loss: 1.0910\n",
            "Epoch: [10/100], Loss: 1.0899\n",
            "Epoch: [11/100], Loss: 1.0888\n",
            "Epoch: [12/100], Loss: 1.0877\n",
            "Epoch: [13/100], Loss: 1.0865\n",
            "Epoch: [14/100], Loss: 1.0853\n",
            "Epoch: [15/100], Loss: 1.0841\n",
            "Epoch: [16/100], Loss: 1.0829\n",
            "Epoch: [17/100], Loss: 1.0817\n",
            "Epoch: [18/100], Loss: 1.0804\n",
            "Epoch: [19/100], Loss: 1.0791\n",
            "Epoch: [20/100], Loss: 1.0778\n",
            "Epoch: [21/100], Loss: 1.0764\n",
            "Epoch: [22/100], Loss: 1.0750\n",
            "Epoch: [23/100], Loss: 1.0736\n",
            "Epoch: [24/100], Loss: 1.0722\n",
            "Epoch: [25/100], Loss: 1.0707\n",
            "Epoch: [26/100], Loss: 1.0692\n",
            "Epoch: [27/100], Loss: 1.0677\n",
            "Epoch: [28/100], Loss: 1.0661\n",
            "Epoch: [29/100], Loss: 1.0644\n",
            "Epoch: [30/100], Loss: 1.0627\n",
            "Epoch: [31/100], Loss: 1.0610\n",
            "Epoch: [32/100], Loss: 1.0592\n",
            "Epoch: [33/100], Loss: 1.0573\n",
            "Epoch: [34/100], Loss: 1.0554\n",
            "Epoch: [35/100], Loss: 1.0534\n",
            "Epoch: [36/100], Loss: 1.0514\n",
            "Epoch: [37/100], Loss: 1.0493\n",
            "Epoch: [38/100], Loss: 1.0471\n",
            "Epoch: [39/100], Loss: 1.0449\n",
            "Epoch: [40/100], Loss: 1.0427\n",
            "Epoch: [41/100], Loss: 1.0403\n",
            "Epoch: [42/100], Loss: 1.0379\n",
            "Epoch: [43/100], Loss: 1.0354\n",
            "Epoch: [44/100], Loss: 1.0329\n",
            "Epoch: [45/100], Loss: 1.0302\n",
            "Epoch: [46/100], Loss: 1.0275\n",
            "Epoch: [47/100], Loss: 1.0247\n",
            "Epoch: [48/100], Loss: 1.0218\n",
            "Epoch: [49/100], Loss: 1.0189\n",
            "Epoch: [50/100], Loss: 1.0159\n",
            "Epoch: [51/100], Loss: 1.0128\n",
            "Epoch: [52/100], Loss: 1.0097\n",
            "Epoch: [53/100], Loss: 1.0065\n",
            "Epoch: [54/100], Loss: 1.0033\n",
            "Epoch: [55/100], Loss: 0.9999\n",
            "Epoch: [56/100], Loss: 0.9966\n",
            "Epoch: [57/100], Loss: 0.9931\n",
            "Epoch: [58/100], Loss: 0.9896\n",
            "Epoch: [59/100], Loss: 0.9861\n",
            "Epoch: [60/100], Loss: 0.9825\n",
            "Epoch: [61/100], Loss: 0.9788\n",
            "Epoch: [62/100], Loss: 0.9751\n",
            "Epoch: [63/100], Loss: 0.9714\n",
            "Epoch: [64/100], Loss: 0.9676\n",
            "Epoch: [65/100], Loss: 0.9637\n",
            "Epoch: [66/100], Loss: 0.9598\n",
            "Epoch: [67/100], Loss: 0.9559\n",
            "Epoch: [68/100], Loss: 0.9519\n",
            "Epoch: [69/100], Loss: 0.9479\n",
            "Epoch: [70/100], Loss: 0.9439\n",
            "Epoch: [71/100], Loss: 0.9398\n",
            "Epoch: [72/100], Loss: 0.9358\n",
            "Epoch: [73/100], Loss: 0.9317\n",
            "Epoch: [74/100], Loss: 0.9276\n",
            "Epoch: [75/100], Loss: 0.9234\n",
            "Epoch: [76/100], Loss: 0.9193\n",
            "Epoch: [77/100], Loss: 0.9152\n",
            "Epoch: [78/100], Loss: 0.9111\n",
            "Epoch: [79/100], Loss: 0.9070\n",
            "Epoch: [80/100], Loss: 0.9029\n",
            "Epoch: [81/100], Loss: 0.8989\n",
            "Epoch: [82/100], Loss: 0.8948\n",
            "Epoch: [83/100], Loss: 0.8908\n",
            "Epoch: [84/100], Loss: 0.8868\n",
            "Epoch: [85/100], Loss: 0.8828\n",
            "Epoch: [86/100], Loss: 0.8789\n",
            "Epoch: [87/100], Loss: 0.8750\n",
            "Epoch: [88/100], Loss: 0.8711\n",
            "Epoch: [89/100], Loss: 0.8673\n",
            "Epoch: [90/100], Loss: 0.8635\n",
            "Epoch: [91/100], Loss: 0.8598\n",
            "Epoch: [92/100], Loss: 0.8561\n",
            "Epoch: [93/100], Loss: 0.8525\n",
            "Epoch: [94/100], Loss: 0.8490\n",
            "Epoch: [95/100], Loss: 0.8455\n",
            "Epoch: [96/100], Loss: 0.8421\n",
            "Epoch: [97/100], Loss: 0.8387\n",
            "Epoch: [98/100], Loss: 0.8354\n",
            "Epoch: [99/100], Loss: 0.8322\n",
            "Epoch: [100/100], Loss: 0.8291\n"
          ]
        }
      ],
      "source": [
        "# Entrenamiento calculando el tiempo\n",
        "start_time = time.time()\n",
        "\n",
        "for epoch in range(epochs):\n",
        "  outputs = model_PyTorch(X_train_tensor)\n",
        "  loss = criterion(outputs, y_train_tensor)\n",
        "\n",
        "  print(f\"Epoch: [{epoch+1}/{epochs}], Loss: {loss.item():.4f}\")\n",
        "\n",
        "  optimizer.zero_grad()\n",
        "  loss.backward()\n",
        "  optimizer.step()\n",
        "\n",
        "end_time = time.time()\n",
        "PyTorch_time = end_time - start_time"
      ]
    },
    {
      "cell_type": "code",
      "execution_count": 43,
      "id": "T-RyM7Tho_A8",
      "metadata": {
        "id": "T-RyM7Tho_A8"
      },
      "outputs": [],
      "source": [
        "# Evaluación del modelo\n",
        "# Cambiar el modelo a modo evaluación\n",
        "model_PyTorch.eval()\n",
        "\n",
        "# Pasamos datos de test a tensores\n",
        "X_test_tensor = torch.tensor(X_test, dtype=torch.float32)\n",
        "y_test_tensor = torch.tensor(y_test, dtype=torch.long)\n",
        "\n",
        "# Evalúa en el conjunto de prueba\n",
        "with torch.no_grad(): # Descativa el cálculo de gradientes\n",
        "  outputs = model_PyTorch(X_test_tensor) # Preddiciones del modelo\n",
        "  predictions = torch.argmax(outputs, dim=1).numpy() # Recojo la clase más probable (el valor más alto) y lo paso a NumPy\n",
        "  y_test_numpy = y_test_tensor.numpy() # Convierte etiquetas reales a NumPy\n",
        "\n",
        "# Calcula la precisión\n",
        "accuracy_PyTorch = accuracy_score(y_test_numpy, predictions)"
      ]
    },
    {
      "cell_type": "markdown",
      "id": "3wte8v7VpRC1",
      "metadata": {
        "id": "3wte8v7VpRC1"
      },
      "source": [
        "### Jax\n"
      ]
    },
    {
      "cell_type": "code",
      "execution_count": 44,
      "id": "UpdPJvyqpQwm",
      "metadata": {
        "id": "UpdPJvyqpQwm"
      },
      "outputs": [],
      "source": [
        "# Importación de librerias\n",
        "import jax.numpy as jnp\n",
        "from jax import grad, jit, vmap\n",
        "from jax import random\n",
        "from jax.example_libraries import optimizers\n",
        "from jax.example_libraries import stax"
      ]
    },
    {
      "cell_type": "code",
      "execution_count": 50,
      "id": "s0_R6Ybsspn5",
      "metadata": {
        "id": "s0_R6Ybsspn5"
      },
      "outputs": [],
      "source": [
        "# Construcción del modelo\n",
        "\n",
        "# Define the model using stax\n",
        "init_random_params, predict = stax.serial(\n",
        "    stax.Dense(128),\n",
        "    stax.Relu,\n",
        "    stax.Dense(64),\n",
        "    stax.Relu,\n",
        "    stax.Dense(3),\n",
        "    stax.Softmax\n",
        ")\n",
        "\n",
        "# Initialize the model parameters\n",
        "key = random.PRNGKey(0)\n",
        "_, init_params = init_random_params(key, (X_train.shape[1],))"
      ]
    },
    {
      "cell_type": "code",
      "execution_count": 51,
      "id": "XC8KH7setAag",
      "metadata": {
        "id": "XC8KH7setAag"
      },
      "outputs": [],
      "source": [
        "# Función de perdida y optimizador\n",
        "def loss_fn(params, inputs, targets):\n",
        "  preds = predict(params, inputs)\n",
        "  return -jnp.mean(jnp.sum(preds * jax.nn.one_hot(targets, 3), axis=1))\n",
        "\n",
        "# Define the optimizer\n",
        "opt_init, opt_update, get_params = optimizers.adam(1e-3)\n",
        "opt_state = opt_init(init_params)"
      ]
    },
    {
      "cell_type": "code",
      "execution_count": null,
      "id": "444e03af",
      "metadata": {},
      "outputs": [],
      "source": [
        "# Define the update function\n",
        "@jit\n",
        "def update(params, x, y, opt_state):\n",
        "  grads = grad(loss_fn)(params, x, y)\n",
        "  opt_state = opt_update(0, grads, opt_state)\n",
        "  return get_params(opt_state), opt_state"
      ]
    },
    {
      "cell_type": "code",
      "execution_count": 52,
      "id": "ZijB6santJmE",
      "metadata": {
        "id": "ZijB6santJmE"
      },
      "outputs": [],
      "source": [
        "# Entrenamiento calculando el tiempo\n",
        "start_time = time.time()\n",
        "for epoch in range(epochs):\n",
        "  params, opt_state = update(get_params(opt_state), X_train, y_train, opt_state)\n",
        "\n",
        "end_time = time.time()\n",
        "jax_time = end_time - start_time"
      ]
    },
    {
      "cell_type": "code",
      "execution_count": 53,
      "id": "SFGFSmRftVz1",
      "metadata": {
        "id": "SFGFSmRftVz1"
      },
      "outputs": [],
      "source": [
        "# Evaluación\n",
        "y_pred_jax = predict(params, X_test)\n",
        "y_pred_jax = jnp.argmax(y_pred_jax, axis=1)\n",
        "accuracy_jax = accuracy_score(y_test, y_pred_jax)"
      ]
    },
    {
      "cell_type": "markdown",
      "id": "TEUcHr38q-lE",
      "metadata": {
        "id": "TEUcHr38q-lE"
      },
      "source": [
        "## Comparaciones"
      ]
    },
    {
      "cell_type": "markdown",
      "id": "eR8uTnc4rdAN",
      "metadata": {
        "id": "eR8uTnc4rdAN"
      },
      "source": [
        "### Precisión"
      ]
    },
    {
      "cell_type": "code",
      "execution_count": 54,
      "id": "9-PNgEp4rCbT",
      "metadata": {
        "colab": {
          "base_uri": "https://localhost:8080/",
          "height": 564
        },
        "id": "9-PNgEp4rCbT",
        "outputId": "2508096f-ae6e-430f-863b-dc7b36ee2fe1"
      },
      "outputs": [
        {
          "data": {
            "image/png": "[encoded data removed]",
            "text/plain": [
              "<Figure size 800x600 with 1 Axes>"
            ]
          },
          "metadata": {},
          "output_type": "display_data"
        }
      ],
      "source": [
        "# Accuracy values for each model\n",
        "accuracy_values = [accuracy_tf, accuracy_PyTorch, accuracy_jax]\n",
        "model_names = ['TensorFlow', 'PyTorch', 'JAX']\n",
        "\n",
        "# Create the bar plot\n",
        "plt.figure(figsize=(8, 6))\n",
        "plt.bar(model_names, accuracy_values, color=['skyblue', 'lightcoral', 'lightgreen'])\n",
        "plt.xlabel('Modelos')\n",
        "plt.ylabel('Precisión')\n",
        "plt.title('Precisión de los Modelos')\n",
        "\n",
        "# Add labels above each bar\n",
        "for i, v in enumerate(accuracy_values):\n",
        "    plt.text(i, v + 0.01, f'{v:.4f}', ha='center', va='bottom')\n",
        "\n",
        "plt.ylim(0, 1.1) # Adjust y-axis limits for better visualization\n",
        "plt.show()"
      ]
    },
    {
      "cell_type": "markdown",
      "id": "7xiciFK3rhNs",
      "metadata": {
        "id": "7xiciFK3rhNs"
      },
      "source": [
        "## Tiempo\n"
      ]
    },
    {
      "cell_type": "code",
      "execution_count": 55,
      "id": "wrHlpr4LrjFV",
      "metadata": {
        "colab": {
          "base_uri": "https://localhost:8080/",
          "height": 565
        },
        "id": "wrHlpr4LrjFV",
        "outputId": "8fa44eb2-1a47-482c-dafe-2326d4fce4dc"
      },
      "outputs": [
        {
          "data": {
            "image/png": "[encoded data removed]",
            "text/plain": [
              "<Figure size 800x600 with 1 Axes>"
            ]
          },
          "metadata": {},
          "output_type": "display_data"
        }
      ],
      "source": [
        "# Tiempo de entrenamiento para cada modelo\n",
        "training_times = [tensorFlow_time, PyTorch_time, jax_time]\n",
        "model_names = ['TensorFlow', 'PyTorch', 'JAX']\n",
        "\n",
        "# Crea la gráfica de barras\n",
        "plt.figure(figsize=(8, 6))\n",
        "plt.bar(model_names, training_times, color=['skyblue', 'lightcoral', 'lightgreen'])\n",
        "plt.xlabel('Modelos')\n",
        "plt.ylabel('Tiempo de entrenamiento (segundos)')\n",
        "plt.title('Comparación del tiempo de entrenamiento')\n",
        "\n",
        "# Agrega etiquetas encima de cada barra\n",
        "for i, v in enumerate(training_times):\n",
        "    plt.text(i, v + 0.01, f'{v:.4f}', ha='center', va='bottom')\n",
        "\n",
        "plt.show()"
      ]
    },
    {
      "cell_type": "markdown",
      "id": "2IkYfWMfsLvK",
      "metadata": {
        "id": "2IkYfWMfsLvK"
      },
      "source": [
        "### Precisión vs Tiempo"
      ]
    },
    {
      "cell_type": "code",
      "execution_count": 60,
      "id": "acotz5eFsQZv",
      "metadata": {
        "colab": {
          "base_uri": "https://localhost:8080/",
          "height": 607
        },
        "id": "acotz5eFsQZv",
        "outputId": "73245d2d-ed04-4d13-bdd0-966321d354b8"
      },
      "outputs": [
        {
          "data": {
            "image/png": "[encoded data removed]",
            "text/plain": [
              "<Figure size 1000x600 with 2 Axes>"
            ]
          },
          "metadata": {},
          "output_type": "display_data"
        }
      ],
      "source": [
        "import seaborn as sns\n",
        "\n",
        "# Datos de precisión y tiempo de entrenamiento\n",
        "accuracy_values = [accuracy_tf, accuracy_PyTorch, accuracy_jax]\n",
        "training_times = [tensorFlow_time, PyTorch_time, jax_time]\n",
        "model_names = ['TensorFlow', 'PyTorch', 'JAX']\n",
        "\n",
        "# Crear un DataFrame de pandas\n",
        "data = {'Model': model_names, 'Accuracy': accuracy_values, 'Training Time': training_times}\n",
        "df = pd.DataFrame(data)\n",
        "\n",
        "# Creating the bar plot with Seaborn (updated)\n",
        "plt.figure(figsize=(10, 6))\n",
        "sns.barplot(x='Model', y='Accuracy', hue='Model', data=df, palette='viridis', errorbar=None, legend=False)\n",
        "plt.xlabel('Modelo', fontsize=12)\n",
        "plt.ylabel('Precisión', fontsize=12)\n",
        "plt.title('Precisión del modelo vs. Tiempo de entrenamiento', fontsize=14)\n",
        "plt.xticks(fontsize=10)\n",
        "plt.yticks(fontsize=10)\n",
        "\n",
        "# Agregar valores de precisión encima de las barras\n",
        "for i, value in enumerate(accuracy_values):\n",
        "    plt.text(i, value + 0.01, f'{value:.4f}', ha='center', va='bottom', fontsize=10)\n",
        "\n",
        "# Agregar segundo eje y para el tiempo de entrenamiento\n",
        "ax2 = plt.twinx()\n",
        "sns.lineplot(x='Model', y='Training Time', data=df, marker='o', color='red', ax=ax2, sort=False)  # Línea roja para el tiempo\n",
        "ax2.set_ylabel('Tiempo de entrenamiento (segundos)', fontsize=12)\n",
        "ax2.tick_params(axis='y', labelcolor='red')\n",
        "\n",
        "\n",
        "plt.tight_layout() # Ajustar la disposición para evitar superposiciones\n",
        "plt.show()"
      ]
    },
    {
      "cell_type": "markdown",
      "id": "08MDLPiovCGS",
      "metadata": {
        "id": "08MDLPiovCGS"
      },
      "source": [
        "## Conclusión\n",
        "\n",
        "Jax no tiene nada que enviadiarle a sus homónimos, consigue la misma precisión que TensrFlow con un tiempo de entrenamiento 10 veces menor. La única pega que podemos sacarle es la necesidad de usar Stax para hacer más facil construir el modelo."
      ]
    },
    {
      "cell_type": "markdown",
      "id": "a446dbe2",
      "metadata": {
        "id": "a446dbe2"
      },
      "source": [
        "### Bibliografía\n",
        "\n",
        "- [JAX](https://github.com/google/jax)\n",
        "- [Optax](https://github.com/deepmind/optax)\n",
        "- [Stax](https://www.kaggle.com/code/aakashnain/building-models-in-jax-part1-stax)"
      ]
    }
  ],
  "metadata": {
    "colab": {
      "provenance": [],
      "toc_visible": true
    },
    "kernelspec": {
      "display_name": "Python 3",
      "name": "python3"
    },
    "language_info": {
      "name": "python"
    }
  },
  "nbformat": 4,
  "nbformat_minor": 5
}
